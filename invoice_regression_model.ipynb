{
 "cells": [
  {
   "cell_type": "code",
   "execution_count": 18,
   "metadata": {},
   "outputs": [],
   "source": [
    "import pandas as pd\n",
    "import matplotlib.pylab as plt\n",
    "%matplotlib inline\n",
    "\n",
    " \n",
    "plt.rcParams['figure.figsize']=(20,10)\n",
    "plt.style.use('ggplot')"
   ]
  },
  {
   "cell_type": "code",
   "execution_count": 19,
   "metadata": {},
   "outputs": [],
   "source": [
    "data = pd.ExcelFile('C:\\\\Users\\\\Jyotishman Parasar\\\\DataanalysisChallenge\\\\data_r\\\\invoice_ext.xlsx')"
   ]
  },
  {
   "cell_type": "code",
   "execution_count": 20,
   "metadata": {},
   "outputs": [],
   "source": [
    "df = data.parse('Sheet1')"
   ]
  },
  {
   "cell_type": "code",
   "execution_count": 21,
   "metadata": {},
   "outputs": [
    {
     "name": "stdout",
     "output_type": "stream",
     "text": [
      "<class 'pandas.core.frame.DataFrame'>\n",
      "RangeIndex: 58304 entries, 0 to 58303\n",
      "Data columns (total 33 columns):\n",
      " #   Column                      Non-Null Count  Dtype         \n",
      "---  ------                      --------------  -----         \n",
      " 0   Unnamed: 0                  58304 non-null  int64         \n",
      " 1   V1                          58304 non-null  int64         \n",
      " 2   INVOICING_ID                58304 non-null  int64         \n",
      " 3   INV_CREATED_DATE            58304 non-null  datetime64[ns]\n",
      " 4   INVOICE_STATUS              58304 non-null  object        \n",
      " 5   GR_DATE                     50754 non-null  datetime64[ns]\n",
      " 6   IR_DATE                     49477 non-null  datetime64[ns]\n",
      " 7   BID_UNIT                    58304 non-null  object        \n",
      " 8   BID_UNIT_SHORT_DESCRIPTION  58304 non-null  object        \n",
      " 9   UNIT                        58304 non-null  object        \n",
      " 10  QUANTITY                    58304 non-null  float64       \n",
      " 11  UNIT_RATE                   58304 non-null  float64       \n",
      " 12  MILESTONE_PERCENTAGE        58301 non-null  float64       \n",
      " 13  MILESTONE_RATE              58245 non-null  float64       \n",
      " 14  LABOR_AMOUNT                58255 non-null  float64       \n",
      " 15  MATERIALS_AMOUNT            58304 non-null  float64       \n",
      " 16  TOTAL_AMOUNT                58255 non-null  float64       \n",
      " 17  CALCULATED_LENGTH           58304 non-null  float64       \n",
      " 18  MILESTONE_NM                58298 non-null  object        \n",
      " 19  MILESTONE_CTGY              58298 non-null  object        \n",
      " 20  MILESTONE_CTGY_DTL          58298 non-null  object        \n",
      " 21  FIBER_MILESTONE             52889 non-null  object        \n",
      " 22  CONSTRUCTION_TYPE           54186 non-null  object        \n",
      " 23  CONSTRUCTION_TYPE_GRP       48756 non-null  object        \n",
      " 24  INVOICE_TYPE                58010 non-null  object        \n",
      " 25  INVOICE_DATE                58304 non-null  datetime64[ns]\n",
      " 26  SEG_STATUS                  48570 non-null  object        \n",
      " 27  NETWORKTYPE                 45901 non-null  object        \n",
      " 28  SHAPE_MILES                 48266 non-null  float64       \n",
      " 29  TYPE_NAME                   36954 non-null  object        \n",
      " 30  NUMBEROFFIBERS              48266 non-null  float64       \n",
      " 31  MARKET_ID                   58304 non-null  int64         \n",
      " 32  fqn_id                      53809 non-null  float64       \n",
      "dtypes: datetime64[ns](4), float64(11), int64(4), object(14)\n",
      "memory usage: 14.7+ MB\n"
     ]
    }
   ],
   "source": [
    "df.info()"
   ]
  },
  {
   "cell_type": "code",
   "execution_count": 22,
   "metadata": {},
   "outputs": [],
   "source": [
    "df['INVOICE_DATE'] = df['INVOICE_DATE'].fillna(value = 'NA')"
   ]
  },
  {
   "cell_type": "code",
   "execution_count": null,
   "metadata": {},
   "outputs": [],
   "source": [
    "df['INVOICE_DATE']=pd.to_datetime(df['INVOICE_DATE'])\n",
    "df.set_index('INVOICE_DATE', inplace=True)\n",
    "\n",
    "df.plot()"
   ]
  },
  {
   "cell_type": "code",
   "execution_count": null,
   "metadata": {},
   "outputs": [],
   "source": [
    "pd.tools.plotting.lag_plot(df['LABOR_AMOUNT'])"
   ]
  },
  {
   "cell_type": "code",
   "execution_count": null,
   "metadata": {},
   "outputs": [],
   "source": [
    "pd.tools.plotting.autocorrelation_plot(df['LABOR_AMOUNT'])"
   ]
  },
  {
   "cell_type": "code",
   "execution_count": null,
   "metadata": {},
   "outputs": [],
   "source": [
    "lr = LinearRegression()"
   ]
  },
  {
   "cell_type": "code",
   "execution_count": null,
   "metadata": {},
   "outputs": [],
   "source": [
    "x = df.x"
   ]
  },
  {
   "cell_type": "code",
   "execution_count": null,
   "metadata": {},
   "outputs": [],
   "source": [
    "x = x.values"
   ]
  },
  {
   "cell_type": "code",
   "execution_count": null,
   "metadata": {},
   "outputs": [],
   "source": [
    "x = x.reshape(-1,1)"
   ]
  },
  {
   "cell_type": "code",
   "execution_count": null,
   "metadata": {},
   "outputs": [],
   "source": [
    "y = df.y"
   ]
  },
  {
   "cell_type": "code",
   "execution_count": null,
   "metadata": {},
   "outputs": [],
   "source": [
    "y = y.values"
   ]
  },
  {
   "cell_type": "code",
   "execution_count": null,
   "metadata": {},
   "outputs": [],
   "source": [
    "y = y.reshape(-1,1)"
   ]
  },
  {
   "cell_type": "code",
   "execution_count": null,
   "metadata": {},
   "outputs": [],
   "source": [
    "lr.fit(x,y)"
   ]
  },
  {
   "cell_type": "code",
   "execution_count": null,
   "metadata": {},
   "outputs": [],
   "source": [
    "def plot_regression_line(x,y,b):\n",
    "    \n",
    "   \n",
    "    plt.scatter(x,y, color=\"r\", marker=\"x\", s=50)\n",
    "    y_pred = b[0]*x + b[1]\n",
    "    plt.plot(x,y_pred, color=\"b\")\n",
    "    plt.xlabel(\"X\")\n",
    "    plt.ylabel(\"Y\")\n",
    "    \n",
    "    plt.show()"
   ]
  },
  {
   "cell_type": "code",
   "execution_count": null,
   "metadata": {},
   "outputs": [],
   "source": [
    "def main():\n",
    "    lr = LinearRegression()\n",
    "    x = df.x\n",
    "    x = x.values\n",
    "    x = x.reshape(-1,1)\n",
    "    y = df.y\n",
    "    y = y.values\n",
    "    y = y.reshape(-1,1)\n",
    "    lr.fit(x,y)\n",
    "    print(\"m : \"+str(lr.coef_[0]),\" c :\"+str(lr.intercept_))\n",
    "    b = (lr.coef_[0], lr.intercept_)\n",
    "    plot_regression_line(x,y,b)\n",
    "    "
   ]
  },
  {
   "cell_type": "code",
   "execution_count": null,
   "metadata": {},
   "outputs": [],
   "source": [
    "main()"
   ]
  },
  {
   "cell_type": "code",
   "execution_count": null,
   "metadata": {},
   "outputs": [],
   "source": [
    "plt.scatter(x,y)"
   ]
  },
  {
   "cell_type": "code",
   "execution_count": null,
   "metadata": {},
   "outputs": [],
   "source": [
    "x_train, x_test, y_train, y_test = train_test_split(df, data.target, test_size=0.10, random_state = 42)\n",
    "\n",
    "l = LinearRegression()\n",
    "l.fit(x_train, y_train)\n",
    "\n",
    "l.coef_\n",
    "l.intercept_\n",
    "\n",
    "x_test.values[0]\n",
    "l.predict([x_test.values[0]])"
   ]
  }
 ],
 "metadata": {
  "kernelspec": {
   "display_name": "Python 3",
   "language": "python",
   "name": "python3"
  },
  "language_info": {
   "codemirror_mode": {
    "name": "ipython",
    "version": 3
   },
   "file_extension": ".py",
   "mimetype": "text/x-python",
   "name": "python",
   "nbconvert_exporter": "python",
   "pygments_lexer": "ipython3",
   "version": "3.7.4"
  }
 },
 "nbformat": 4,
 "nbformat_minor": 2
}
