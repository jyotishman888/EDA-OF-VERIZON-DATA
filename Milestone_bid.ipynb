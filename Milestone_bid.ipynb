{
 "cells": [
  {
   "cell_type": "code",
   "execution_count": 2,
   "metadata": {},
   "outputs": [
    {
     "name": "stderr",
     "output_type": "stream",
     "text": [
      "D:\\Anaconda\\lib\\site-packages\\statsmodels\\tools\\_testing.py:19: FutureWarning: pandas.util.testing is deprecated. Use the functions in the public API at pandas.testing instead.\n",
      "  import pandas.util.testing as tm\n"
     ]
    }
   ],
   "source": [
    "import numpy as np\n",
    "import matplotlib.pyplot as plt\n",
    "import pandas as pd\n",
    "import seaborn as sns\n",
    "from sklearn.model_selection import cross_val_score,StratifiedKFold\n",
    "from itertools import cycle\n",
    "import xlsxwriter\n",
    "from pandas import DataFrame"
   ]
  },
  {
   "cell_type": "code",
   "execution_count": 3,
   "metadata": {},
   "outputs": [],
   "source": [
    "data = pd.read_csv('C:\\\\Users\\\\Jyotishman Parasar\\\\DataanalysisChallenge\\\\milestone bid unit.csv')"
   ]
  },
  {
   "cell_type": "code",
   "execution_count": 4,
   "metadata": {},
   "outputs": [
    {
     "data": {
      "text/html": [
       "<div>\n",
       "<style scoped>\n",
       "    .dataframe tbody tr th:only-of-type {\n",
       "        vertical-align: middle;\n",
       "    }\n",
       "\n",
       "    .dataframe tbody tr th {\n",
       "        vertical-align: top;\n",
       "    }\n",
       "\n",
       "    .dataframe thead th {\n",
       "        text-align: right;\n",
       "    }\n",
       "</style>\n",
       "<table border=\"1\" class=\"dataframe\">\n",
       "  <thead>\n",
       "    <tr style=\"text-align: right;\">\n",
       "      <th></th>\n",
       "      <th>Unnamed: 0</th>\n",
       "      <th>BID_UNIT</th>\n",
       "      <th>QUANTITY</th>\n",
       "      <th>UNIT</th>\n",
       "      <th>UNIT_RATE</th>\n",
       "      <th>MILESTONE_RATE</th>\n",
       "      <th>MILESTONE_PERCENTAGE</th>\n",
       "      <th>MILESTONE_NM</th>\n",
       "      <th>MILESTONE_CTGY</th>\n",
       "      <th>MILESTONE_CTGY_GRP</th>\n",
       "      <th>CONSTRUCTION_TYPE</th>\n",
       "      <th>MARKET_ID</th>\n",
       "    </tr>\n",
       "  </thead>\n",
       "  <tbody>\n",
       "    <tr>\n",
       "      <th>0</th>\n",
       "      <td>1</td>\n",
       "      <td>C-100.1</td>\n",
       "      <td>919987</td>\n",
       "      <td>foot</td>\n",
       "      <td>17.07</td>\n",
       "      <td>10.2420</td>\n",
       "      <td>60</td>\n",
       "      <td>2-Construction</td>\n",
       "      <td>4-Cable Placed</td>\n",
       "      <td>4-Cable Placed</td>\n",
       "      <td>New UG Softscape</td>\n",
       "      <td>79</td>\n",
       "    </tr>\n",
       "    <tr>\n",
       "      <th>1</th>\n",
       "      <td>2</td>\n",
       "      <td>C-100.1A</td>\n",
       "      <td>1</td>\n",
       "      <td>foot</td>\n",
       "      <td>17.07</td>\n",
       "      <td>14.5095</td>\n",
       "      <td>85</td>\n",
       "      <td>2-Construction</td>\n",
       "      <td>4-Cable Placed</td>\n",
       "      <td>4-Cable Placed</td>\n",
       "      <td>New UG Softscape</td>\n",
       "      <td>79</td>\n",
       "    </tr>\n",
       "    <tr>\n",
       "      <th>2</th>\n",
       "      <td>3</td>\n",
       "      <td>C-100.1B</td>\n",
       "      <td>1</td>\n",
       "      <td>foot</td>\n",
       "      <td>17.07</td>\n",
       "      <td>4.2675</td>\n",
       "      <td>25</td>\n",
       "      <td>2-Construction</td>\n",
       "      <td>4-Cable Placed</td>\n",
       "      <td>4-Cable Placed</td>\n",
       "      <td>New UG Softscape</td>\n",
       "      <td>79</td>\n",
       "    </tr>\n",
       "    <tr>\n",
       "      <th>3</th>\n",
       "      <td>4</td>\n",
       "      <td>C-100.1X</td>\n",
       "      <td>1</td>\n",
       "      <td>foot</td>\n",
       "      <td>17.07</td>\n",
       "      <td>14.5095</td>\n",
       "      <td>85</td>\n",
       "      <td>2-Construction</td>\n",
       "      <td>4-Cable Placed</td>\n",
       "      <td>4-Cable Placed</td>\n",
       "      <td>New UG Softscape</td>\n",
       "      <td>79</td>\n",
       "    </tr>\n",
       "    <tr>\n",
       "      <th>4</th>\n",
       "      <td>5</td>\n",
       "      <td>C-100.2</td>\n",
       "      <td>919987</td>\n",
       "      <td>foot</td>\n",
       "      <td>17.07</td>\n",
       "      <td>6.8280</td>\n",
       "      <td>40</td>\n",
       "      <td>2-Construction</td>\n",
       "      <td>5-Splice and Test</td>\n",
       "      <td>5-Splice and Test</td>\n",
       "      <td>New UG Softscape</td>\n",
       "      <td>79</td>\n",
       "    </tr>\n",
       "    <tr>\n",
       "      <th>...</th>\n",
       "      <td>...</td>\n",
       "      <td>...</td>\n",
       "      <td>...</td>\n",
       "      <td>...</td>\n",
       "      <td>...</td>\n",
       "      <td>...</td>\n",
       "      <td>...</td>\n",
       "      <td>...</td>\n",
       "      <td>...</td>\n",
       "      <td>...</td>\n",
       "      <td>...</td>\n",
       "      <td>...</td>\n",
       "    </tr>\n",
       "    <tr>\n",
       "      <th>5646</th>\n",
       "      <td>5647</td>\n",
       "      <td>E-355.2</td>\n",
       "      <td>58608</td>\n",
       "      <td>foot</td>\n",
       "      <td>1.35</td>\n",
       "      <td>0.2700</td>\n",
       "      <td>20</td>\n",
       "      <td>1-Engineering</td>\n",
       "      <td>4-Cable Placed</td>\n",
       "      <td>4-Cable Placed</td>\n",
       "      <td>Existing UG</td>\n",
       "      <td>43</td>\n",
       "    </tr>\n",
       "    <tr>\n",
       "      <th>5647</th>\n",
       "      <td>5648</td>\n",
       "      <td>E-355.3</td>\n",
       "      <td>58608</td>\n",
       "      <td>foot</td>\n",
       "      <td>1.35</td>\n",
       "      <td>0.1350</td>\n",
       "      <td>10</td>\n",
       "      <td>1-Engineering</td>\n",
       "      <td>6-As Built Complete</td>\n",
       "      <td>6-As Built</td>\n",
       "      <td>Existing UG</td>\n",
       "      <td>43</td>\n",
       "    </tr>\n",
       "    <tr>\n",
       "      <th>5648</th>\n",
       "      <td>5649</td>\n",
       "      <td>E-400.1</td>\n",
       "      <td>879120</td>\n",
       "      <td>foot</td>\n",
       "      <td>1.15</td>\n",
       "      <td>0.8050</td>\n",
       "      <td>70</td>\n",
       "      <td>1-Engineering</td>\n",
       "      <td>2-Cable Design</td>\n",
       "      <td>2-Cable Design</td>\n",
       "      <td>Aerial</td>\n",
       "      <td>43</td>\n",
       "    </tr>\n",
       "    <tr>\n",
       "      <th>5649</th>\n",
       "      <td>5650</td>\n",
       "      <td>E-400.2</td>\n",
       "      <td>879120</td>\n",
       "      <td>foot</td>\n",
       "      <td>1.15</td>\n",
       "      <td>0.2300</td>\n",
       "      <td>20</td>\n",
       "      <td>1-Engineering</td>\n",
       "      <td>4-Cable Placed</td>\n",
       "      <td>4-Cable Placed</td>\n",
       "      <td>Aerial</td>\n",
       "      <td>43</td>\n",
       "    </tr>\n",
       "    <tr>\n",
       "      <th>5650</th>\n",
       "      <td>5651</td>\n",
       "      <td>E-400.3</td>\n",
       "      <td>879120</td>\n",
       "      <td>foot</td>\n",
       "      <td>1.15</td>\n",
       "      <td>0.1150</td>\n",
       "      <td>10</td>\n",
       "      <td>1-Engineering</td>\n",
       "      <td>6-As Built Complete</td>\n",
       "      <td>6-As Built</td>\n",
       "      <td>Aerial</td>\n",
       "      <td>43</td>\n",
       "    </tr>\n",
       "  </tbody>\n",
       "</table>\n",
       "<p>5651 rows × 12 columns</p>\n",
       "</div>"
      ],
      "text/plain": [
       "      Unnamed: 0  BID_UNIT  QUANTITY  UNIT  UNIT_RATE  MILESTONE_RATE  \\\n",
       "0              1   C-100.1    919987  foot      17.07         10.2420   \n",
       "1              2  C-100.1A         1  foot      17.07         14.5095   \n",
       "2              3  C-100.1B         1  foot      17.07          4.2675   \n",
       "3              4  C-100.1X         1  foot      17.07         14.5095   \n",
       "4              5   C-100.2    919987  foot      17.07          6.8280   \n",
       "...          ...       ...       ...   ...        ...             ...   \n",
       "5646        5647   E-355.2     58608  foot       1.35          0.2700   \n",
       "5647        5648   E-355.3     58608  foot       1.35          0.1350   \n",
       "5648        5649   E-400.1    879120  foot       1.15          0.8050   \n",
       "5649        5650   E-400.2    879120  foot       1.15          0.2300   \n",
       "5650        5651   E-400.3    879120  foot       1.15          0.1150   \n",
       "\n",
       "      MILESTONE_PERCENTAGE    MILESTONE_NM       MILESTONE_CTGY  \\\n",
       "0                       60  2-Construction       4-Cable Placed   \n",
       "1                       85  2-Construction       4-Cable Placed   \n",
       "2                       25  2-Construction       4-Cable Placed   \n",
       "3                       85  2-Construction       4-Cable Placed   \n",
       "4                       40  2-Construction    5-Splice and Test   \n",
       "...                    ...             ...                  ...   \n",
       "5646                    20   1-Engineering       4-Cable Placed   \n",
       "5647                    10   1-Engineering  6-As Built Complete   \n",
       "5648                    70   1-Engineering       2-Cable Design   \n",
       "5649                    20   1-Engineering       4-Cable Placed   \n",
       "5650                    10   1-Engineering  6-As Built Complete   \n",
       "\n",
       "     MILESTONE_CTGY_GRP CONSTRUCTION_TYPE  MARKET_ID  \n",
       "0        4-Cable Placed  New UG Softscape         79  \n",
       "1        4-Cable Placed  New UG Softscape         79  \n",
       "2        4-Cable Placed  New UG Softscape         79  \n",
       "3        4-Cable Placed  New UG Softscape         79  \n",
       "4     5-Splice and Test  New UG Softscape         79  \n",
       "...                 ...               ...        ...  \n",
       "5646     4-Cable Placed       Existing UG         43  \n",
       "5647         6-As Built       Existing UG         43  \n",
       "5648     2-Cable Design            Aerial         43  \n",
       "5649     4-Cable Placed            Aerial         43  \n",
       "5650         6-As Built            Aerial         43  \n",
       "\n",
       "[5651 rows x 12 columns]"
      ]
     },
     "execution_count": 4,
     "metadata": {},
     "output_type": "execute_result"
    }
   ],
   "source": [
    "data"
   ]
  },
  {
   "cell_type": "code",
   "execution_count": 5,
   "metadata": {},
   "outputs": [
    {
     "name": "stdout",
     "output_type": "stream",
     "text": [
      "<class 'pandas.core.frame.DataFrame'>\n",
      "RangeIndex: 5651 entries, 0 to 5650\n",
      "Data columns (total 12 columns):\n",
      " #   Column                Non-Null Count  Dtype  \n",
      "---  ------                --------------  -----  \n",
      " 0   Unnamed: 0            5651 non-null   int64  \n",
      " 1   BID_UNIT              5651 non-null   object \n",
      " 2   QUANTITY              5651 non-null   int64  \n",
      " 3   UNIT                  5651 non-null   object \n",
      " 4   UNIT_RATE             5651 non-null   float64\n",
      " 5   MILESTONE_RATE        5651 non-null   float64\n",
      " 6   MILESTONE_PERCENTAGE  5651 non-null   int64  \n",
      " 7   MILESTONE_NM          5651 non-null   object \n",
      " 8   MILESTONE_CTGY        5651 non-null   object \n",
      " 9   MILESTONE_CTGY_GRP    5651 non-null   object \n",
      " 10  CONSTRUCTION_TYPE     5650 non-null   object \n",
      " 11  MARKET_ID             5651 non-null   int64  \n",
      "dtypes: float64(2), int64(4), object(6)\n",
      "memory usage: 529.9+ KB\n"
     ]
    }
   ],
   "source": [
    "data.info()"
   ]
  },
  {
   "cell_type": "code",
   "execution_count": 6,
   "metadata": {},
   "outputs": [],
   "source": [
    "data['CONSTRUCTION_TYPE'] = data['CONSTRUCTION_TYPE'].fillna(value = 'NA')"
   ]
  },
  {
   "cell_type": "code",
   "execution_count": 7,
   "metadata": {},
   "outputs": [
    {
     "name": "stdout",
     "output_type": "stream",
     "text": [
      "<class 'pandas.core.frame.DataFrame'>\n",
      "RangeIndex: 5651 entries, 0 to 5650\n",
      "Data columns (total 12 columns):\n",
      " #   Column                Non-Null Count  Dtype  \n",
      "---  ------                --------------  -----  \n",
      " 0   Unnamed: 0            5651 non-null   int64  \n",
      " 1   BID_UNIT              5651 non-null   object \n",
      " 2   QUANTITY              5651 non-null   int64  \n",
      " 3   UNIT                  5651 non-null   object \n",
      " 4   UNIT_RATE             5651 non-null   float64\n",
      " 5   MILESTONE_RATE        5651 non-null   float64\n",
      " 6   MILESTONE_PERCENTAGE  5651 non-null   int64  \n",
      " 7   MILESTONE_NM          5651 non-null   object \n",
      " 8   MILESTONE_CTGY        5651 non-null   object \n",
      " 9   MILESTONE_CTGY_GRP    5651 non-null   object \n",
      " 10  CONSTRUCTION_TYPE     5651 non-null   object \n",
      " 11  MARKET_ID             5651 non-null   int64  \n",
      "dtypes: float64(2), int64(4), object(6)\n",
      "memory usage: 529.9+ KB\n"
     ]
    }
   ],
   "source": [
    "data.info()"
   ]
  },
  {
   "cell_type": "code",
   "execution_count": 8,
   "metadata": {},
   "outputs": [
    {
     "name": "stdout",
     "output_type": "stream",
     "text": [
      "E-200.2       117\n",
      "E-200.1       116\n",
      "E-300.1       115\n",
      "C-100.2A      115\n",
      "C-100.2B      115\n",
      "             ... \n",
      "E-400.2 CF      1\n",
      "E-110.2 CF      1\n",
      "C-305.2         1\n",
      "C-305.1A        1\n",
      "C-101.1         1\n",
      "Name: BID_UNIT, Length: 120, dtype: int64\n"
     ]
    }
   ],
   "source": [
    "print(data['BID_UNIT'].value_counts())"
   ]
  },
  {
   "cell_type": "code",
   "execution_count": 9,
   "metadata": {},
   "outputs": [
    {
     "name": "stdout",
     "output_type": "stream",
     "text": [
      "2.25     190\n",
      "59.00     68\n",
      "2.95      66\n",
      "2.97      63\n",
      "3.00      61\n",
      "        ... \n",
      "0.76       2\n",
      "2.36       2\n",
      "0.69       2\n",
      "27.65      1\n",
      "0.02       1\n",
      "Name: UNIT_RATE, Length: 441, dtype: int64\n"
     ]
    }
   ],
   "source": [
    "print(data['UNIT_RATE'].value_counts())"
   ]
  },
  {
   "cell_type": "code",
   "execution_count": 10,
   "metadata": {},
   "outputs": [
    {
     "name": "stdout",
     "output_type": "stream",
     "text": [
      "15     1139\n",
      "85      939\n",
      "25      627\n",
      "60      577\n",
      "40      544\n",
      "10      506\n",
      "70      450\n",
      "20      448\n",
      "5       174\n",
      "75      115\n",
      "95      107\n",
      "90       10\n",
      "100       9\n",
      "30        3\n",
      "0         2\n",
      "50        1\n",
      "Name: MILESTONE_PERCENTAGE, dtype: int64\n"
     ]
    }
   ],
   "source": [
    "print(data['MILESTONE_PERCENTAGE'].value_counts())"
   ]
  },
  {
   "cell_type": "code",
   "execution_count": 20,
   "metadata": {},
   "outputs": [
    {
     "data": {
      "text/plain": [
       "<matplotlib.axes._subplots.AxesSubplot at 0x1ef7a1aa088>"
      ]
     },
     "execution_count": 20,
     "metadata": {},
     "output_type": "execute_result"
    },
    {
     "data": {
      "image/png": "[encoded data removed]",
      "text/plain": [
       "<Figure size 432x288 with 1 Axes>"
      ]
     },
     "metadata": {
      "needs_background": "light"
     },
     "output_type": "display_data"
    }
   ],
   "source": [
    "plt.xticks(rotation=90)\n",
    "sns.countplot(x= 'MILESTONE_PERCENTAGE', data = data)"
   ]
  },
  {
   "cell_type": "code",
   "execution_count": 11,
   "metadata": {},
   "outputs": [
    {
     "name": "stdout",
     "output_type": "stream",
     "text": [
      "2-Construction          4053\n",
      "1-Engineering           1360\n",
      "4-Project Management     238\n",
      "Name: MILESTONE_NM, dtype: int64\n"
     ]
    }
   ],
   "source": [
    "print(data['MILESTONE_NM'].value_counts())"
   ]
  },
  {
   "cell_type": "code",
   "execution_count": 19,
   "metadata": {},
   "outputs": [
    {
     "data": {
      "text/plain": [
       "<matplotlib.axes._subplots.AxesSubplot at 0x1ef7a14aa88>"
      ]
     },
     "execution_count": 19,
     "metadata": {},
     "output_type": "execute_result"
    },
    {
     "data": {
      "image/png": "[encoded data removed]",
      "text/plain": [
       "<Figure size 432x288 with 1 Axes>"
      ]
     },
     "metadata": {
      "needs_background": "light"
     },
     "output_type": "display_data"
    }
   ],
   "source": [
    "plt.xticks(rotation=90)\n",
    "sns.countplot(x= 'MILESTONE_NM', data = data)"
   ]
  },
  {
   "cell_type": "code",
   "execution_count": 12,
   "metadata": {},
   "outputs": [
    {
     "name": "stdout",
     "output_type": "stream",
     "text": [
      "4-Cable Placed                         2616\n",
      "5-Splice and Test                      1998\n",
      "2-Cable Design                          573\n",
      "6-As Built Complete                     453\n",
      "5-Cable Design-Permits Received-90%       4\n",
      "5-Cable Design-Permits Received 30%       2\n",
      "04-Cable Placed                           2\n",
      "3-As Built-40%                            1\n",
      "2-Cable Design-CPD 20%                    1\n",
      "4-Splice and Test                         1\n",
      "Name: MILESTONE_CTGY, dtype: int64\n"
     ]
    }
   ],
   "source": [
    "print(data['MILESTONE_CTGY'].value_counts())"
   ]
  },
  {
   "cell_type": "code",
   "execution_count": 18,
   "metadata": {},
   "outputs": [
    {
     "data": {
      "text/plain": [
       "<matplotlib.axes._subplots.AxesSubplot at 0x1ef7a09ab48>"
      ]
     },
     "execution_count": 18,
     "metadata": {},
     "output_type": "execute_result"
    },
    {
     "data": {
      "image/png": "[encoded data removed]",
      "text/plain": [
       "<Figure size 432x288 with 1 Axes>"
      ]
     },
     "metadata": {
      "needs_background": "light"
     },
     "output_type": "display_data"
    }
   ],
   "source": [
    "plt.xticks(rotation=90)\n",
    "sns.countplot(x= 'MILESTONE_CTGY', data = data)"
   ]
  },
  {
   "cell_type": "code",
   "execution_count": 13,
   "metadata": {},
   "outputs": [
    {
     "name": "stdout",
     "output_type": "stream",
     "text": [
      "4-Cable Placed       2618\n",
      "5-Splice and Test    1999\n",
      "2-Cable Design        580\n",
      "6-As Built            454\n",
      "Name: MILESTONE_CTGY_GRP, dtype: int64\n"
     ]
    }
   ],
   "source": [
    "print(data['MILESTONE_CTGY_GRP'].value_counts())"
   ]
  },
  {
   "cell_type": "code",
   "execution_count": 14,
   "metadata": {},
   "outputs": [
    {
     "data": {
      "text/plain": [
       "<matplotlib.axes._subplots.AxesSubplot at 0x1ef79f270c8>"
      ]
     },
     "execution_count": 14,
     "metadata": {},
     "output_type": "execute_result"
    },
    {
     "data": {
      "image/png": "[encoded data removed]",
      "text/plain": [
       "<Figure size 432x288 with 1 Axes>"
      ]
     },
     "metadata": {
      "needs_background": "light"
     },
     "output_type": "display_data"
    }
   ],
   "source": [
    "plt.xticks(rotation=90)\n",
    "sns.countplot(x= 'MILESTONE_CTGY_GRP', data = data)"
   ]
  },
  {
   "cell_type": "code",
   "execution_count": 15,
   "metadata": {},
   "outputs": [
    {
     "name": "stdout",
     "output_type": "stream",
     "text": [
      "Existing UG               1512\n",
      "Aerial                    1198\n",
      "New UG Softscape           923\n",
      "New UG Hardscape           880\n",
      "New UG Microtrench         509\n",
      "New UG Shared              362\n",
      "Project Management         238\n",
      "New UG Narrowband 26\"\"      12\n",
      "New UG Narrowband 16\"\"       8\n",
      "New UG Cleanfast             8\n",
      "NA                           1\n",
      "Name: CONSTRUCTION_TYPE, dtype: int64\n"
     ]
    }
   ],
   "source": [
    "print(data['CONSTRUCTION_TYPE'].value_counts())"
   ]
  },
  {
   "cell_type": "code",
   "execution_count": 17,
   "metadata": {},
   "outputs": [
    {
     "data": {
      "text/plain": [
       "<matplotlib.axes._subplots.AxesSubplot at 0x1ef79fca148>"
      ]
     },
     "execution_count": 17,
     "metadata": {},
     "output_type": "execute_result"
    },
    {
     "data": {
      "image/png": "[encoded data removed]",
      "text/plain": [
       "<Figure size 432x288 with 1 Axes>"
      ]
     },
     "metadata": {
      "needs_background": "light"
     },
     "output_type": "display_data"
    }
   ],
   "source": [
    "plt.xticks(rotation=90)\n",
    "sns.countplot(x= 'CONSTRUCTION_TYPE', data = data)"
   ]
  },
  {
   "cell_type": "code",
   "execution_count": 16,
   "metadata": {},
   "outputs": [
    {
     "name": "stdout",
     "output_type": "stream",
     "text": [
      "18    215\n",
      "7     173\n",
      "30    163\n",
      "33    155\n",
      "2     153\n",
      "     ... \n",
      "70     37\n",
      "98     33\n",
      "73     20\n",
      "86      9\n",
      "88      8\n",
      "Name: MARKET_ID, Length: 83, dtype: int64\n"
     ]
    }
   ],
   "source": [
    "print(data['MARKET_ID'].value_counts())"
   ]
  }
 ],
 "metadata": {
  "kernelspec": {
   "display_name": "Python 3",
   "language": "python",
   "name": "python3"
  },
  "language_info": {
   "codemirror_mode": {
    "name": "ipython",
    "version": 3
   },
   "file_extension": ".py",
   "mimetype": "text/x-python",
   "name": "python",
   "nbconvert_exporter": "python",
   "pygments_lexer": "ipython3",
   "version": "3.7.4"
  }
 },
 "nbformat": 4,
 "nbformat_minor": 2
}
