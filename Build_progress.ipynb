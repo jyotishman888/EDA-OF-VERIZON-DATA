{
 "cells": [
  {
   "cell_type": "code",
   "execution_count": 12,
   "metadata": {},
   "outputs": [],
   "source": [
    "import numpy as np\n",
    "import matplotlib.pyplot as plt\n",
    "import pandas as pd\n",
    "import seaborn as sns\n",
    "from sklearn.model_selection import cross_val_score,StratifiedKFold\n",
    "from itertools import cycle\n",
    "import xlsxwriter\n",
    "from pandas import DataFrame"
   ]
  },
  {
   "cell_type": "code",
   "execution_count": 13,
   "metadata": {},
   "outputs": [
    {
     "data": {
      "text/html": [
       "<div>\n",
       "<style scoped>\n",
       "    .dataframe tbody tr th:only-of-type {\n",
       "        vertical-align: middle;\n",
       "    }\n",
       "\n",
       "    .dataframe tbody tr th {\n",
       "        vertical-align: top;\n",
       "    }\n",
       "\n",
       "    .dataframe thead th {\n",
       "        text-align: right;\n",
       "    }\n",
       "</style>\n",
       "<table border=\"1\" class=\"dataframe\">\n",
       "  <thead>\n",
       "    <tr style=\"text-align: right;\">\n",
       "      <th></th>\n",
       "      <th>Unnamed: 0</th>\n",
       "      <th>V1</th>\n",
       "      <th>PERMITS_SUBMITTED_ACTUAL</th>\n",
       "      <th>PERMITS_RECEIVED_ACTUAL</th>\n",
       "      <th>CABLE_PLACED_ACT</th>\n",
       "      <th>SPLICE_AND_TEST_ACT</th>\n",
       "      <th>ACTUAL_VALUE</th>\n",
       "      <th>MILES_FLAG</th>\n",
       "      <th>MILEAGE_TYPE</th>\n",
       "      <th>MARKET_ID</th>\n",
       "      <th>fqn_id</th>\n",
       "    </tr>\n",
       "  </thead>\n",
       "  <tbody>\n",
       "    <tr>\n",
       "      <th>0</th>\n",
       "      <td>1728</td>\n",
       "      <td>1728</td>\n",
       "      <td>2020-08-07</td>\n",
       "      <td>NaT</td>\n",
       "      <td>NaT</td>\n",
       "      <td>NaT</td>\n",
       "      <td>0.00322</td>\n",
       "      <td>New</td>\n",
       "      <td>NaN</td>\n",
       "      <td>67</td>\n",
       "      <td>1696</td>\n",
       "    </tr>\n",
       "    <tr>\n",
       "      <th>1</th>\n",
       "      <td>1761</td>\n",
       "      <td>1761</td>\n",
       "      <td>2020-07-16</td>\n",
       "      <td>NaT</td>\n",
       "      <td>NaT</td>\n",
       "      <td>NaT</td>\n",
       "      <td>0.00000</td>\n",
       "      <td>New</td>\n",
       "      <td>NaN</td>\n",
       "      <td>68</td>\n",
       "      <td>1729</td>\n",
       "    </tr>\n",
       "    <tr>\n",
       "      <th>2</th>\n",
       "      <td>1763</td>\n",
       "      <td>1763</td>\n",
       "      <td>2020-04-27</td>\n",
       "      <td>NaT</td>\n",
       "      <td>NaT</td>\n",
       "      <td>NaT</td>\n",
       "      <td>2.04447</td>\n",
       "      <td>New</td>\n",
       "      <td>NaN</td>\n",
       "      <td>69</td>\n",
       "      <td>1731</td>\n",
       "    </tr>\n",
       "    <tr>\n",
       "      <th>3</th>\n",
       "      <td>1960</td>\n",
       "      <td>1960</td>\n",
       "      <td>2020-07-30</td>\n",
       "      <td>NaT</td>\n",
       "      <td>NaT</td>\n",
       "      <td>NaT</td>\n",
       "      <td>0.00000</td>\n",
       "      <td>New</td>\n",
       "      <td>NaN</td>\n",
       "      <td>68</td>\n",
       "      <td>1928</td>\n",
       "    </tr>\n",
       "    <tr>\n",
       "      <th>4</th>\n",
       "      <td>1971</td>\n",
       "      <td>1971</td>\n",
       "      <td>2020-08-24</td>\n",
       "      <td>NaT</td>\n",
       "      <td>NaT</td>\n",
       "      <td>NaT</td>\n",
       "      <td>0.00000</td>\n",
       "      <td>New</td>\n",
       "      <td>NaN</td>\n",
       "      <td>68</td>\n",
       "      <td>1939</td>\n",
       "    </tr>\n",
       "    <tr>\n",
       "      <th>...</th>\n",
       "      <td>...</td>\n",
       "      <td>...</td>\n",
       "      <td>...</td>\n",
       "      <td>...</td>\n",
       "      <td>...</td>\n",
       "      <td>...</td>\n",
       "      <td>...</td>\n",
       "      <td>...</td>\n",
       "      <td>...</td>\n",
       "      <td>...</td>\n",
       "      <td>...</td>\n",
       "    </tr>\n",
       "    <tr>\n",
       "      <th>75460</th>\n",
       "      <td>1046259</td>\n",
       "      <td>1046259</td>\n",
       "      <td>NaT</td>\n",
       "      <td>NaT</td>\n",
       "      <td>2020-04-17 04:00:00</td>\n",
       "      <td>NaT</td>\n",
       "      <td>0.07230</td>\n",
       "      <td>New</td>\n",
       "      <td>New Mileage by primary vendor</td>\n",
       "      <td>68</td>\n",
       "      <td>337937</td>\n",
       "    </tr>\n",
       "    <tr>\n",
       "      <th>75461</th>\n",
       "      <td>1046260</td>\n",
       "      <td>1046260</td>\n",
       "      <td>NaT</td>\n",
       "      <td>NaT</td>\n",
       "      <td>2020-04-17 04:00:00</td>\n",
       "      <td>NaT</td>\n",
       "      <td>0.18040</td>\n",
       "      <td>New</td>\n",
       "      <td>New Mileage by primary vendor</td>\n",
       "      <td>68</td>\n",
       "      <td>337938</td>\n",
       "    </tr>\n",
       "    <tr>\n",
       "      <th>75462</th>\n",
       "      <td>1046261</td>\n",
       "      <td>1046261</td>\n",
       "      <td>NaT</td>\n",
       "      <td>NaT</td>\n",
       "      <td>2019-08-31 04:00:00</td>\n",
       "      <td>NaT</td>\n",
       "      <td>-1.31530</td>\n",
       "      <td>New</td>\n",
       "      <td>New Mileage by primary vendor</td>\n",
       "      <td>68</td>\n",
       "      <td>202936</td>\n",
       "    </tr>\n",
       "    <tr>\n",
       "      <th>75463</th>\n",
       "      <td>1046262</td>\n",
       "      <td>1046262</td>\n",
       "      <td>NaT</td>\n",
       "      <td>NaT</td>\n",
       "      <td>2020-04-17 04:00:00</td>\n",
       "      <td>NaT</td>\n",
       "      <td>0.03630</td>\n",
       "      <td>New</td>\n",
       "      <td>New Mileage by primary vendor</td>\n",
       "      <td>68</td>\n",
       "      <td>318973</td>\n",
       "    </tr>\n",
       "    <tr>\n",
       "      <th>75464</th>\n",
       "      <td>1046263</td>\n",
       "      <td>1046263</td>\n",
       "      <td>NaT</td>\n",
       "      <td>NaT</td>\n",
       "      <td>2020-04-17 04:00:00</td>\n",
       "      <td>NaT</td>\n",
       "      <td>0.03770</td>\n",
       "      <td>New</td>\n",
       "      <td>New Mileage by primary vendor</td>\n",
       "      <td>68</td>\n",
       "      <td>318978</td>\n",
       "    </tr>\n",
       "  </tbody>\n",
       "</table>\n",
       "<p>75465 rows × 11 columns</p>\n",
       "</div>"
      ],
      "text/plain": [
       "       Unnamed: 0       V1 PERMITS_SUBMITTED_ACTUAL PERMITS_RECEIVED_ACTUAL  \\\n",
       "0            1728     1728               2020-08-07                     NaT   \n",
       "1            1761     1761               2020-07-16                     NaT   \n",
       "2            1763     1763               2020-04-27                     NaT   \n",
       "3            1960     1960               2020-07-30                     NaT   \n",
       "4            1971     1971               2020-08-24                     NaT   \n",
       "...           ...      ...                      ...                     ...   \n",
       "75460     1046259  1046259                      NaT                     NaT   \n",
       "75461     1046260  1046260                      NaT                     NaT   \n",
       "75462     1046261  1046261                      NaT                     NaT   \n",
       "75463     1046262  1046262                      NaT                     NaT   \n",
       "75464     1046263  1046263                      NaT                     NaT   \n",
       "\n",
       "         CABLE_PLACED_ACT SPLICE_AND_TEST_ACT  ACTUAL_VALUE MILES_FLAG  \\\n",
       "0                     NaT                 NaT       0.00322        New   \n",
       "1                     NaT                 NaT       0.00000        New   \n",
       "2                     NaT                 NaT       2.04447        New   \n",
       "3                     NaT                 NaT       0.00000        New   \n",
       "4                     NaT                 NaT       0.00000        New   \n",
       "...                   ...                 ...           ...        ...   \n",
       "75460 2020-04-17 04:00:00                 NaT       0.07230        New   \n",
       "75461 2020-04-17 04:00:00                 NaT       0.18040        New   \n",
       "75462 2019-08-31 04:00:00                 NaT      -1.31530        New   \n",
       "75463 2020-04-17 04:00:00                 NaT       0.03630        New   \n",
       "75464 2020-04-17 04:00:00                 NaT       0.03770        New   \n",
       "\n",
       "                        MILEAGE_TYPE  MARKET_ID  fqn_id  \n",
       "0                                NaN         67    1696  \n",
       "1                                NaN         68    1729  \n",
       "2                                NaN         69    1731  \n",
       "3                                NaN         68    1928  \n",
       "4                                NaN         68    1939  \n",
       "...                              ...        ...     ...  \n",
       "75460  New Mileage by primary vendor         68  337937  \n",
       "75461  New Mileage by primary vendor         68  337938  \n",
       "75462  New Mileage by primary vendor         68  202936  \n",
       "75463  New Mileage by primary vendor         68  318973  \n",
       "75464  New Mileage by primary vendor         68  318978  \n",
       "\n",
       "[75465 rows x 11 columns]"
      ]
     },
     "execution_count": 13,
     "metadata": {},
     "output_type": "execute_result"
    }
   ],
   "source": [
    "data_2 = pd.ExcelFile('C:\\\\Users\\\\Jyotishman Parasar\\\\DataanalysisChallenge\\\\build progress_ext.xlsx')\n",
    "df1 = data_2.parse('Sheet1')\n",
    "df1"
   ]
  },
  {
   "cell_type": "code",
   "execution_count": 14,
   "metadata": {},
   "outputs": [
    {
     "name": "stdout",
     "output_type": "stream",
     "text": [
      "<class 'pandas.core.frame.DataFrame'>\n",
      "RangeIndex: 75465 entries, 0 to 75464\n",
      "Data columns (total 11 columns):\n",
      " #   Column                    Non-Null Count  Dtype         \n",
      "---  ------                    --------------  -----         \n",
      " 0   Unnamed: 0                75465 non-null  int64         \n",
      " 1   V1                        75465 non-null  int64         \n",
      " 2   PERMITS_SUBMITTED_ACTUAL  10107 non-null  datetime64[ns]\n",
      " 3   PERMITS_RECEIVED_ACTUAL   8640 non-null   datetime64[ns]\n",
      " 4   CABLE_PLACED_ACT          22182 non-null  datetime64[ns]\n",
      " 5   SPLICE_AND_TEST_ACT       12106 non-null  datetime64[ns]\n",
      " 6   ACTUAL_VALUE              75451 non-null  float64       \n",
      " 7   MILES_FLAG                75465 non-null  object        \n",
      " 8   MILEAGE_TYPE              31837 non-null  object        \n",
      " 9   MARKET_ID                 75465 non-null  int64         \n",
      " 10  fqn_id                    75465 non-null  int64         \n",
      "dtypes: datetime64[ns](4), float64(1), int64(4), object(2)\n",
      "memory usage: 6.3+ MB\n"
     ]
    }
   ],
   "source": [
    "df1.info()"
   ]
  },
  {
   "cell_type": "code",
   "execution_count": 15,
   "metadata": {},
   "outputs": [],
   "source": [
    "##df2 = df1.drop(['PERMITS_SUBMITTED_ACTUAL','PERMITS_RECEIVED_ACTUAL'], axis=1)"
   ]
  },
  {
   "cell_type": "code",
   "execution_count": 16,
   "metadata": {},
   "outputs": [],
   "source": [
    "df2['SPLICE_AND_TEST_ACT'] = df2['SPLICE_AND_TEST_ACT'].fillna(value = 'NA')\n",
    "df2['CABLE_PLACED_ACT'] = df2['CABLE_PLACED_ACT'].fillna(value = 'NA')\n",
    "df2['PERMITS_SUBMITTED_ACTUAL'] = df2['CABLE_PLACED_ACT'].fillna(value = 'NA')\n",
    "df2['PERMITS_RECEIVED_ACTUAL'] = df2['CABLE_PLACED_ACT'].fillna(value = 'NA')"
   ]
  },
  {
   "cell_type": "code",
   "execution_count": 17,
   "metadata": {},
   "outputs": [
    {
     "name": "stdout",
     "output_type": "stream",
     "text": [
      "<class 'pandas.core.frame.DataFrame'>\n",
      "RangeIndex: 4997 entries, 0 to 4996\n",
      "Data columns (total 11 columns):\n",
      " #   Column                    Non-Null Count  Dtype  \n",
      "---  ------                    --------------  -----  \n",
      " 0   Unnamed: 0                4997 non-null   int64  \n",
      " 1   V1                        4997 non-null   int64  \n",
      " 2   CABLE_PLACED_ACT          4997 non-null   object \n",
      " 3   SPLICE_AND_TEST_ACT       4997 non-null   object \n",
      " 4   ACTUAL_VALUE              4997 non-null   float64\n",
      " 5   MILES_FLAG                4997 non-null   object \n",
      " 6   MILEAGE_TYPE              4997 non-null   object \n",
      " 7   MARKET_ID                 4997 non-null   int64  \n",
      " 8   fqn_id                    4997 non-null   int64  \n",
      " 9   PERMITS_SUBMITTED_ACTUAL  4997 non-null   object \n",
      " 10  PERMITS_RECEIVED_ACTUAL   4997 non-null   object \n",
      "dtypes: float64(1), int64(4), object(6)\n",
      "memory usage: 429.6+ KB\n"
     ]
    }
   ],
   "source": [
    "df2.info()"
   ]
  },
  {
   "cell_type": "code",
   "execution_count": 23,
   "metadata": {},
   "outputs": [
    {
     "name": "stdout",
     "output_type": "stream",
     "text": [
      "New Mileage by BAU/3RD Party vendor    2667\n",
      "New Mileage by primary vendor          1943\n",
      "Existing                                285\n",
      "New by WOW                               58\n",
      "New by XO (NEXTLINK)                     44\n",
      "Name: MILEAGE_TYPE, dtype: int64\n"
     ]
    }
   ],
   "source": [
    "print(df2['MILEAGE_TYPE'].value_counts())"
   ]
  },
  {
   "cell_type": "code",
   "execution_count": 9,
   "metadata": {},
   "outputs": [
    {
     "data": {
      "text/plain": [
       "<matplotlib.axes._subplots.AxesSubplot at 0x156d49e4348>"
      ]
     },
     "execution_count": 9,
     "metadata": {},
     "output_type": "execute_result"
    },
    {
     "data": {
      "image/png": "[encoded data removed]",
      "text/plain": [
       "<Figure size 432x288 with 1 Axes>"
      ]
     },
     "metadata": {
      "needs_background": "light"
     },
     "output_type": "display_data"
    }
   ],
   "source": [
    "plt.xticks(rotation=90)\n",
    "sns.countplot(x= 'MILEAGE_TYPE', data = df2)"
   ]
  },
  {
   "cell_type": "code",
   "execution_count": 24,
   "metadata": {},
   "outputs": [
    {
     "name": "stdout",
     "output_type": "stream",
     "text": [
      "69    554\n",
      "1     279\n",
      "35    266\n",
      "36    259\n",
      "28    217\n",
      "     ... \n",
      "93      3\n",
      "71      3\n",
      "53      2\n",
      "97      1\n",
      "47      1\n",
      "Name: MARKET_ID, Length: 86, dtype: int64\n"
     ]
    }
   ],
   "source": [
    "print(df2['MARKET_ID'].value_counts())"
   ]
  },
  {
   "cell_type": "code",
   "execution_count": null,
   "metadata": {},
   "outputs": [],
   "source": []
  }
 ],
 "metadata": {
  "kernelspec": {
   "display_name": "Python 3",
   "language": "python",
   "name": "python3"
  },
  "language_info": {
   "codemirror_mode": {
    "name": "ipython",
    "version": 3
   },
   "file_extension": ".py",
   "mimetype": "text/x-python",
   "name": "python",
   "nbconvert_exporter": "python",
   "pygments_lexer": "ipython3",
   "version": "3.7.4"
  }
 },
 "nbformat": 4,
 "nbformat_minor": 2
}
