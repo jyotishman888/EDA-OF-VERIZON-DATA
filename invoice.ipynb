{
 "cells": [
  {
   "cell_type": "code",
   "execution_count": 1,
   "metadata": {},
   "outputs": [
    {
     "name": "stderr",
     "output_type": "stream",
     "text": [
      "D:\\Anaconda\\lib\\site-packages\\statsmodels\\tools\\_testing.py:19: FutureWarning: pandas.util.testing is deprecated. Use the functions in the public API at pandas.testing instead.\n",
      "  import pandas.util.testing as tm\n"
     ]
    }
   ],
   "source": [
    "# Importing required libraries\n",
    "import numpy as np\n",
    "import pandas as pd, datetime\n",
    "import seaborn as sns\n",
    "from statsmodels.tsa.stattools import adfuller\n",
    "import matplotlib.pyplot as plt\n",
    "get_ipython().run_line_magic('matplotlib', 'inline')\n",
    "from time import time\n",
    "import os\n",
    "from math import sqrt\n",
    "from statsmodels.tsa.seasonal import seasonal_decompose\n",
    "from statsmodels.graphics.tsaplots import plot_acf, plot_pacf\n",
    "import itertools\n",
    "import statsmodels.api as sm\n",
    "from statsmodels.tsa.stattools import acf,pacf\n",
    "from statsmodels.tsa.arima_model import  ARIMA\n",
    "from sklearn import model_selection\n",
    "from sklearn.metrics import mean_squared_error, r2_score\n",
    "from pandas import DataFrame\n",
    "import warnings\n",
    "warnings.filterwarnings('ignore')"
   ]
  },
  {
   "cell_type": "code",
   "execution_count": 2,
   "metadata": {},
   "outputs": [],
   "source": [
    "data_invoice = pd.ExcelFile('C:\\\\Users\\\\Jyotishman Parasar\\\\DataanalysisChallenge\\\\invoice_ext.xlsx')"
   ]
  },
  {
   "cell_type": "code",
   "execution_count": 3,
   "metadata": {},
   "outputs": [],
   "source": [
    "df3 = data_invoice.parse('Sheet1')"
   ]
  },
  {
   "cell_type": "code",
   "execution_count": 4,
   "metadata": {},
   "outputs": [
    {
     "data": {
      "text/html": [
       "<div>\n",
       "<style scoped>\n",
       "    .dataframe tbody tr th:only-of-type {\n",
       "        vertical-align: middle;\n",
       "    }\n",
       "\n",
       "    .dataframe tbody tr th {\n",
       "        vertical-align: top;\n",
       "    }\n",
       "\n",
       "    .dataframe thead th {\n",
       "        text-align: right;\n",
       "    }\n",
       "</style>\n",
       "<table border=\"1\" class=\"dataframe\">\n",
       "  <thead>\n",
       "    <tr style=\"text-align: right;\">\n",
       "      <th></th>\n",
       "      <th>Unnamed: 0</th>\n",
       "      <th>V1</th>\n",
       "      <th>INVOICING_ID</th>\n",
       "      <th>INV_CREATED_DATE</th>\n",
       "      <th>INVOICE_STATUS</th>\n",
       "      <th>GR_DATE</th>\n",
       "      <th>IR_DATE</th>\n",
       "      <th>BID_UNIT</th>\n",
       "      <th>BID_UNIT_SHORT_DESCRIPTION</th>\n",
       "      <th>UNIT</th>\n",
       "      <th>...</th>\n",
       "      <th>CONSTRUCTION_TYPE_GRP</th>\n",
       "      <th>INVOICE_TYPE</th>\n",
       "      <th>INVOICE_DATE</th>\n",
       "      <th>SEG_STATUS</th>\n",
       "      <th>NETWORKTYPE</th>\n",
       "      <th>SHAPE_MILES</th>\n",
       "      <th>TYPE_NAME</th>\n",
       "      <th>NUMBEROFFIBERS</th>\n",
       "      <th>MARKET_ID</th>\n",
       "      <th>fqn_id</th>\n",
       "    </tr>\n",
       "  </thead>\n",
       "  <tbody>\n",
       "    <tr>\n",
       "      <th>0</th>\n",
       "      <td>3</td>\n",
       "      <td>3</td>\n",
       "      <td>161397</td>\n",
       "      <td>2019-02-18 17:59:53</td>\n",
       "      <td>AP_PAID</td>\n",
       "      <td>2019-02-20</td>\n",
       "      <td>2019-02-28</td>\n",
       "      <td>E-400.1</td>\n",
       "      <td>Permits in Hand - LLD Aerial</td>\n",
       "      <td>foot</td>\n",
       "      <td>...</td>\n",
       "      <td>Aerial</td>\n",
       "      <td>LLD</td>\n",
       "      <td>2019-01-09</td>\n",
       "      <td>NaN</td>\n",
       "      <td>NaN</td>\n",
       "      <td>NaN</td>\n",
       "      <td>NaN</td>\n",
       "      <td>NaN</td>\n",
       "      <td>67</td>\n",
       "      <td>195657.0</td>\n",
       "    </tr>\n",
       "    <tr>\n",
       "      <th>1</th>\n",
       "      <td>17</td>\n",
       "      <td>17</td>\n",
       "      <td>875084</td>\n",
       "      <td>2020-05-21 10:14:24</td>\n",
       "      <td>AP_PAID</td>\n",
       "      <td>2020-06-15</td>\n",
       "      <td>2020-06-15</td>\n",
       "      <td>E-300.2</td>\n",
       "      <td>Cable Placed - New UG</td>\n",
       "      <td>foot</td>\n",
       "      <td>...</td>\n",
       "      <td>Buried</td>\n",
       "      <td>LLD</td>\n",
       "      <td>2020-05-20</td>\n",
       "      <td>Spliced and Tested</td>\n",
       "      <td>BackHaul</td>\n",
       "      <td>0.034234</td>\n",
       "      <td>BURIED</td>\n",
       "      <td>864.0</td>\n",
       "      <td>69</td>\n",
       "      <td>145342.0</td>\n",
       "    </tr>\n",
       "    <tr>\n",
       "      <th>2</th>\n",
       "      <td>20</td>\n",
       "      <td>20</td>\n",
       "      <td>478599</td>\n",
       "      <td>2019-11-18 09:11:02</td>\n",
       "      <td>AP_PAID</td>\n",
       "      <td>2019-11-25</td>\n",
       "      <td>2019-11-25</td>\n",
       "      <td>E-200.1</td>\n",
       "      <td>Permits in Hand - PM</td>\n",
       "      <td>foot</td>\n",
       "      <td>...</td>\n",
       "      <td>Project Management</td>\n",
       "      <td>LLD</td>\n",
       "      <td>2019-11-18</td>\n",
       "      <td>Cable Placed</td>\n",
       "      <td>FrontHaul</td>\n",
       "      <td>0.580373</td>\n",
       "      <td>BURIED</td>\n",
       "      <td>288.0</td>\n",
       "      <td>69</td>\n",
       "      <td>259382.0</td>\n",
       "    </tr>\n",
       "    <tr>\n",
       "      <th>3</th>\n",
       "      <td>50</td>\n",
       "      <td>50</td>\n",
       "      <td>322744</td>\n",
       "      <td>2019-08-06 14:56:30</td>\n",
       "      <td>VENDOR_CANCELLED</td>\n",
       "      <td>NaT</td>\n",
       "      <td>NaT</td>\n",
       "      <td>E-200.2</td>\n",
       "      <td>Construction Complete - PM</td>\n",
       "      <td>foot</td>\n",
       "      <td>...</td>\n",
       "      <td>Project Management</td>\n",
       "      <td>As-Built</td>\n",
       "      <td>2019-08-06</td>\n",
       "      <td>Spliced and Tested</td>\n",
       "      <td>FrontHaul</td>\n",
       "      <td>0.037251</td>\n",
       "      <td>BURIED</td>\n",
       "      <td>144.0</td>\n",
       "      <td>69</td>\n",
       "      <td>74587.0</td>\n",
       "    </tr>\n",
       "    <tr>\n",
       "      <th>4</th>\n",
       "      <td>57</td>\n",
       "      <td>57</td>\n",
       "      <td>214540</td>\n",
       "      <td>2019-05-09 00:32:57</td>\n",
       "      <td>AP_PAID</td>\n",
       "      <td>2018-11-06</td>\n",
       "      <td>2018-11-09</td>\n",
       "      <td>E-400.2</td>\n",
       "      <td>Cable Placed - Aerial</td>\n",
       "      <td>foot</td>\n",
       "      <td>...</td>\n",
       "      <td>Aerial</td>\n",
       "      <td>LLD</td>\n",
       "      <td>2018-10-22</td>\n",
       "      <td>NaN</td>\n",
       "      <td>NaN</td>\n",
       "      <td>NaN</td>\n",
       "      <td>NaN</td>\n",
       "      <td>NaN</td>\n",
       "      <td>69</td>\n",
       "      <td>115642.0</td>\n",
       "    </tr>\n",
       "    <tr>\n",
       "      <th>...</th>\n",
       "      <td>...</td>\n",
       "      <td>...</td>\n",
       "      <td>...</td>\n",
       "      <td>...</td>\n",
       "      <td>...</td>\n",
       "      <td>...</td>\n",
       "      <td>...</td>\n",
       "      <td>...</td>\n",
       "      <td>...</td>\n",
       "      <td>...</td>\n",
       "      <td>...</td>\n",
       "      <td>...</td>\n",
       "      <td>...</td>\n",
       "      <td>...</td>\n",
       "      <td>...</td>\n",
       "      <td>...</td>\n",
       "      <td>...</td>\n",
       "      <td>...</td>\n",
       "      <td>...</td>\n",
       "      <td>...</td>\n",
       "      <td>...</td>\n",
       "    </tr>\n",
       "    <tr>\n",
       "      <th>58299</th>\n",
       "      <td>811645</td>\n",
       "      <td>811645</td>\n",
       "      <td>119895</td>\n",
       "      <td>2018-09-05 13:14:25</td>\n",
       "      <td>AP_PAID</td>\n",
       "      <td>2018-10-02</td>\n",
       "      <td>2018-10-08</td>\n",
       "      <td>C-510</td>\n",
       "      <td>Cable Prep/Splice/Test (Ribbon)</td>\n",
       "      <td>fiber</td>\n",
       "      <td>...</td>\n",
       "      <td>NaN</td>\n",
       "      <td>LLD</td>\n",
       "      <td>2018-09-04</td>\n",
       "      <td>Spliced and Tested</td>\n",
       "      <td>FrontHaul</td>\n",
       "      <td>0.063777</td>\n",
       "      <td>AERIAL</td>\n",
       "      <td>8.0</td>\n",
       "      <td>67</td>\n",
       "      <td>290521.0</td>\n",
       "    </tr>\n",
       "    <tr>\n",
       "      <th>58300</th>\n",
       "      <td>811659</td>\n",
       "      <td>811659</td>\n",
       "      <td>952579</td>\n",
       "      <td>2020-06-12 13:03:04</td>\n",
       "      <td>VENDOR_SAVED</td>\n",
       "      <td>NaT</td>\n",
       "      <td>NaT</td>\n",
       "      <td>C-100.1B</td>\n",
       "      <td>Cable Placed - New UG (B/T/P) (Inv'd w/Conduit...</td>\n",
       "      <td>foot</td>\n",
       "      <td>...</td>\n",
       "      <td>Buried</td>\n",
       "      <td>LLD</td>\n",
       "      <td>2020-06-12</td>\n",
       "      <td>Cable Placed</td>\n",
       "      <td>FrontHaul</td>\n",
       "      <td>0.189692</td>\n",
       "      <td>BURIED</td>\n",
       "      <td>864.0</td>\n",
       "      <td>68</td>\n",
       "      <td>167624.0</td>\n",
       "    </tr>\n",
       "    <tr>\n",
       "      <th>58301</th>\n",
       "      <td>811668</td>\n",
       "      <td>811668</td>\n",
       "      <td>492454</td>\n",
       "      <td>2019-11-25 19:27:33</td>\n",
       "      <td>AP_PAID</td>\n",
       "      <td>2018-09-10</td>\n",
       "      <td>2018-09-11</td>\n",
       "      <td>C-100.1</td>\n",
       "      <td>Cable Placed - New UG (B/T/P)</td>\n",
       "      <td>foot</td>\n",
       "      <td>...</td>\n",
       "      <td>Buried</td>\n",
       "      <td>LLD</td>\n",
       "      <td>2018-04-17</td>\n",
       "      <td>Spliced and Tested</td>\n",
       "      <td>FrontHaul</td>\n",
       "      <td>0.141879</td>\n",
       "      <td>BURIED</td>\n",
       "      <td>288.0</td>\n",
       "      <td>69</td>\n",
       "      <td>114910.0</td>\n",
       "    </tr>\n",
       "    <tr>\n",
       "      <th>58302</th>\n",
       "      <td>811672</td>\n",
       "      <td>811672</td>\n",
       "      <td>488173</td>\n",
       "      <td>2019-11-22 17:21:55</td>\n",
       "      <td>AP_PAID</td>\n",
       "      <td>2018-05-03</td>\n",
       "      <td>2018-05-08</td>\n",
       "      <td>E-300.1</td>\n",
       "      <td>Permits in Hand - LLD New UG</td>\n",
       "      <td>foot</td>\n",
       "      <td>...</td>\n",
       "      <td>Buried</td>\n",
       "      <td>LLD</td>\n",
       "      <td>2018-02-27</td>\n",
       "      <td>Spliced and Tested</td>\n",
       "      <td>FrontHaul</td>\n",
       "      <td>0.124837</td>\n",
       "      <td>AERIAL</td>\n",
       "      <td>8.0</td>\n",
       "      <td>67</td>\n",
       "      <td>141574.0</td>\n",
       "    </tr>\n",
       "    <tr>\n",
       "      <th>58303</th>\n",
       "      <td>811674</td>\n",
       "      <td>811674</td>\n",
       "      <td>764738</td>\n",
       "      <td>2020-04-09 16:55:04</td>\n",
       "      <td>AP_PAID</td>\n",
       "      <td>2020-04-14</td>\n",
       "      <td>2020-04-14</td>\n",
       "      <td>E-300.1</td>\n",
       "      <td>Permits in Hand - LLD New UG</td>\n",
       "      <td>foot</td>\n",
       "      <td>...</td>\n",
       "      <td>Buried</td>\n",
       "      <td>LLD</td>\n",
       "      <td>2020-04-09</td>\n",
       "      <td>Spliced and Tested</td>\n",
       "      <td>Distribution</td>\n",
       "      <td>0.018518</td>\n",
       "      <td>NaN</td>\n",
       "      <td>8.0</td>\n",
       "      <td>69</td>\n",
       "      <td>130264.0</td>\n",
       "    </tr>\n",
       "  </tbody>\n",
       "</table>\n",
       "<p>58304 rows × 33 columns</p>\n",
       "</div>"
      ],
      "text/plain": [
       "       Unnamed: 0      V1  INVOICING_ID    INV_CREATED_DATE    INVOICE_STATUS  \\\n",
       "0               3       3        161397 2019-02-18 17:59:53           AP_PAID   \n",
       "1              17      17        875084 2020-05-21 10:14:24           AP_PAID   \n",
       "2              20      20        478599 2019-11-18 09:11:02           AP_PAID   \n",
       "3              50      50        322744 2019-08-06 14:56:30  VENDOR_CANCELLED   \n",
       "4              57      57        214540 2019-05-09 00:32:57           AP_PAID   \n",
       "...           ...     ...           ...                 ...               ...   \n",
       "58299      811645  811645        119895 2018-09-05 13:14:25           AP_PAID   \n",
       "58300      811659  811659        952579 2020-06-12 13:03:04      VENDOR_SAVED   \n",
       "58301      811668  811668        492454 2019-11-25 19:27:33           AP_PAID   \n",
       "58302      811672  811672        488173 2019-11-22 17:21:55           AP_PAID   \n",
       "58303      811674  811674        764738 2020-04-09 16:55:04           AP_PAID   \n",
       "\n",
       "         GR_DATE    IR_DATE  BID_UNIT  \\\n",
       "0     2019-02-20 2019-02-28   E-400.1   \n",
       "1     2020-06-15 2020-06-15   E-300.2   \n",
       "2     2019-11-25 2019-11-25   E-200.1   \n",
       "3            NaT        NaT   E-200.2   \n",
       "4     2018-11-06 2018-11-09   E-400.2   \n",
       "...          ...        ...       ...   \n",
       "58299 2018-10-02 2018-10-08     C-510   \n",
       "58300        NaT        NaT  C-100.1B   \n",
       "58301 2018-09-10 2018-09-11   C-100.1   \n",
       "58302 2018-05-03 2018-05-08   E-300.1   \n",
       "58303 2020-04-14 2020-04-14   E-300.1   \n",
       "\n",
       "                              BID_UNIT_SHORT_DESCRIPTION   UNIT  ...  \\\n",
       "0                           Permits in Hand - LLD Aerial   foot  ...   \n",
       "1                                  Cable Placed - New UG   foot  ...   \n",
       "2                                   Permits in Hand - PM   foot  ...   \n",
       "3                             Construction Complete - PM   foot  ...   \n",
       "4                                  Cable Placed - Aerial   foot  ...   \n",
       "...                                                  ...    ...  ...   \n",
       "58299                    Cable Prep/Splice/Test (Ribbon)  fiber  ...   \n",
       "58300  Cable Placed - New UG (B/T/P) (Inv'd w/Conduit...   foot  ...   \n",
       "58301                      Cable Placed - New UG (B/T/P)   foot  ...   \n",
       "58302                       Permits in Hand - LLD New UG   foot  ...   \n",
       "58303                       Permits in Hand - LLD New UG   foot  ...   \n",
       "\n",
       "       CONSTRUCTION_TYPE_GRP  INVOICE_TYPE  INVOICE_DATE          SEG_STATUS  \\\n",
       "0                     Aerial           LLD    2019-01-09                 NaN   \n",
       "1                     Buried           LLD    2020-05-20  Spliced and Tested   \n",
       "2         Project Management           LLD    2019-11-18        Cable Placed   \n",
       "3         Project Management      As-Built    2019-08-06  Spliced and Tested   \n",
       "4                     Aerial           LLD    2018-10-22                 NaN   \n",
       "...                      ...           ...           ...                 ...   \n",
       "58299                    NaN           LLD    2018-09-04  Spliced and Tested   \n",
       "58300                 Buried           LLD    2020-06-12        Cable Placed   \n",
       "58301                 Buried           LLD    2018-04-17  Spliced and Tested   \n",
       "58302                 Buried           LLD    2018-02-27  Spliced and Tested   \n",
       "58303                 Buried           LLD    2020-04-09  Spliced and Tested   \n",
       "\n",
       "        NETWORKTYPE  SHAPE_MILES  TYPE_NAME  NUMBEROFFIBERS MARKET_ID  \\\n",
       "0               NaN          NaN        NaN             NaN        67   \n",
       "1          BackHaul     0.034234     BURIED           864.0        69   \n",
       "2         FrontHaul     0.580373     BURIED           288.0        69   \n",
       "3         FrontHaul     0.037251     BURIED           144.0        69   \n",
       "4               NaN          NaN        NaN             NaN        69   \n",
       "...             ...          ...        ...             ...       ...   \n",
       "58299     FrontHaul     0.063777     AERIAL             8.0        67   \n",
       "58300     FrontHaul     0.189692     BURIED           864.0        68   \n",
       "58301     FrontHaul     0.141879     BURIED           288.0        69   \n",
       "58302     FrontHaul     0.124837     AERIAL             8.0        67   \n",
       "58303  Distribution     0.018518        NaN             8.0        69   \n",
       "\n",
       "         fqn_id  \n",
       "0      195657.0  \n",
       "1      145342.0  \n",
       "2      259382.0  \n",
       "3       74587.0  \n",
       "4      115642.0  \n",
       "...         ...  \n",
       "58299  290521.0  \n",
       "58300  167624.0  \n",
       "58301  114910.0  \n",
       "58302  141574.0  \n",
       "58303  130264.0  \n",
       "\n",
       "[58304 rows x 33 columns]"
      ]
     },
     "execution_count": 4,
     "metadata": {},
     "output_type": "execute_result"
    }
   ],
   "source": [
    "df3"
   ]
  },
  {
   "cell_type": "code",
   "execution_count": 5,
   "metadata": {},
   "outputs": [
    {
     "name": "stdout",
     "output_type": "stream",
     "text": [
      "<class 'pandas.core.frame.DataFrame'>\n",
      "RangeIndex: 58304 entries, 0 to 58303\n",
      "Data columns (total 33 columns):\n",
      " #   Column                      Non-Null Count  Dtype         \n",
      "---  ------                      --------------  -----         \n",
      " 0   Unnamed: 0                  58304 non-null  int64         \n",
      " 1   V1                          58304 non-null  int64         \n",
      " 2   INVOICING_ID                58304 non-null  int64         \n",
      " 3   INV_CREATED_DATE            58304 non-null  datetime64[ns]\n",
      " 4   INVOICE_STATUS              58304 non-null  object        \n",
      " 5   GR_DATE                     50754 non-null  datetime64[ns]\n",
      " 6   IR_DATE                     49477 non-null  datetime64[ns]\n",
      " 7   BID_UNIT                    58304 non-null  object        \n",
      " 8   BID_UNIT_SHORT_DESCRIPTION  58304 non-null  object        \n",
      " 9   UNIT                        58304 non-null  object        \n",
      " 10  QUANTITY                    58304 non-null  float64       \n",
      " 11  UNIT_RATE                   58304 non-null  float64       \n",
      " 12  MILESTONE_PERCENTAGE        58301 non-null  float64       \n",
      " 13  MILESTONE_RATE              58245 non-null  float64       \n",
      " 14  LABOR_AMOUNT                58255 non-null  float64       \n",
      " 15  MATERIALS_AMOUNT            58304 non-null  float64       \n",
      " 16  TOTAL_AMOUNT                58255 non-null  float64       \n",
      " 17  CALCULATED_LENGTH           58304 non-null  float64       \n",
      " 18  MILESTONE_NM                58298 non-null  object        \n",
      " 19  MILESTONE_CTGY              58298 non-null  object        \n",
      " 20  MILESTONE_CTGY_DTL          58298 non-null  object        \n",
      " 21  FIBER_MILESTONE             52889 non-null  object        \n",
      " 22  CONSTRUCTION_TYPE           54186 non-null  object        \n",
      " 23  CONSTRUCTION_TYPE_GRP       48756 non-null  object        \n",
      " 24  INVOICE_TYPE                58010 non-null  object        \n",
      " 25  INVOICE_DATE                58304 non-null  datetime64[ns]\n",
      " 26  SEG_STATUS                  48570 non-null  object        \n",
      " 27  NETWORKTYPE                 45901 non-null  object        \n",
      " 28  SHAPE_MILES                 48266 non-null  float64       \n",
      " 29  TYPE_NAME                   36954 non-null  object        \n",
      " 30  NUMBEROFFIBERS              48266 non-null  float64       \n",
      " 31  MARKET_ID                   58304 non-null  int64         \n",
      " 32  fqn_id                      53809 non-null  float64       \n",
      "dtypes: datetime64[ns](4), float64(11), int64(4), object(14)\n",
      "memory usage: 14.7+ MB\n"
     ]
    }
   ],
   "source": [
    "df3.info()"
   ]
  },
  {
   "cell_type": "code",
   "execution_count": 6,
   "metadata": {},
   "outputs": [],
   "source": [
    "df3['BID_UNIT'] = df3['BID_UNIT'].fillna(value = 'NA')\n",
    "df3['MARKET_ID'] = df3['MARKET_ID'].fillna(value = 'NA')"
   ]
  },
  {
   "cell_type": "code",
   "execution_count": 7,
   "metadata": {},
   "outputs": [
    {
     "data": {
      "text/plain": [
       "(Timestamp('2016-09-12 00:00:00'), Timestamp('2020-09-23 00:00:00'))"
      ]
     },
     "execution_count": 7,
     "metadata": {},
     "output_type": "execute_result"
    }
   ],
   "source": [
    "df3['GR_DATE'].min(), df3['GR_DATE'].max()"
   ]
  },
  {
   "cell_type": "code",
   "execution_count": 8,
   "metadata": {},
   "outputs": [
    {
     "name": "stdout",
     "output_type": "stream",
     "text": [
      "AP_PAID              47928\n",
      "VENDOR_CANCELLED      5142\n",
      "IR_PROCESSED          2891\n",
      "ENGINEER_APPROVED      552\n",
      "ENGG_MGR_APPROVED      495\n",
      "ENGINEER_REJECTED      380\n",
      "VENDOR_SAVED           337\n",
      "VENDOR_SUBMITTED       260\n",
      "IR_SENT                219\n",
      "GR_FAILED               75\n",
      "VENDOR_REJECTED         25\n",
      "Name: INVOICE_STATUS, dtype: int64\n"
     ]
    }
   ],
   "source": [
    "print(df3['INVOICE_STATUS'].value_counts())"
   ]
  },
  {
   "cell_type": "code",
   "execution_count": 9,
   "metadata": {},
   "outputs": [
    {
     "data": {
      "text/plain": [
       "<matplotlib.axes._subplots.AxesSubplot at 0x25c10661a08>"
      ]
     },
     "execution_count": 9,
     "metadata": {},
     "output_type": "execute_result"
    },
    {
     "data": {
      "image/png": "[encoded data removed]",
      "text/plain": [
       "<Figure size 432x288 with 1 Axes>"
      ]
     },
     "metadata": {
      "needs_background": "light"
     },
     "output_type": "display_data"
    }
   ],
   "source": [
    "plt.xticks(rotation=90)\n",
    "sns.countplot(x= 'INVOICE_STATUS', data = df3)"
   ]
  },
  {
   "cell_type": "code",
   "execution_count": 10,
   "metadata": {},
   "outputs": [
    {
     "name": "stdout",
     "output_type": "stream",
     "text": [
      "69    50653\n",
      "68     4027\n",
      "67     3624\n",
      "Name: MARKET_ID, dtype: int64\n"
     ]
    }
   ],
   "source": [
    "print(df3['MARKET_ID'].value_counts())"
   ]
  },
  {
   "cell_type": "code",
   "execution_count": 11,
   "metadata": {},
   "outputs": [
    {
     "data": {
      "text/plain": [
       "<matplotlib.axes._subplots.AxesSubplot at 0x25c0e221208>"
      ]
     },
     "execution_count": 11,
     "metadata": {},
     "output_type": "execute_result"
    },
    {
     "data": {
      "image/png": "[encoded data removed]",
      "text/plain": [
       "<Figure size 432x288 with 1 Axes>"
      ]
     },
     "metadata": {
      "needs_background": "light"
     },
     "output_type": "display_data"
    }
   ],
   "source": [
    "## Overall performance of each market (Nationally)\n",
    "\n",
    "sns.countplot(x= 'MARKET_ID', data = df3)"
   ]
  },
  {
   "cell_type": "code",
   "execution_count": 12,
   "metadata": {},
   "outputs": [
    {
     "name": "stdout",
     "output_type": "stream",
     "text": [
      "Buried                28810\n",
      "Project Management    11204\n",
      "Aerial                 8742\n",
      "Name: CONSTRUCTION_TYPE_GRP, dtype: int64\n"
     ]
    }
   ],
   "source": [
    "print(df3['CONSTRUCTION_TYPE_GRP'].value_counts())"
   ]
  },
  {
   "cell_type": "code",
   "execution_count": 13,
   "metadata": {},
   "outputs": [
    {
     "name": "stdout",
     "output_type": "stream",
     "text": [
      "LLD               51803\n",
      "Pass Thru          5512\n",
      "As-Built            593\n",
      "ODN Design           43\n",
      "Fiber Splicing       28\n",
      "Change Order         21\n",
      "HLD                  10\n",
      "Name: INVOICE_TYPE, dtype: int64\n"
     ]
    }
   ],
   "source": [
    "print(df3['INVOICE_TYPE'].value_counts())"
   ]
  },
  {
   "cell_type": "code",
   "execution_count": 14,
   "metadata": {},
   "outputs": [
    {
     "name": "stdout",
     "output_type": "stream",
     "text": [
      "Spliced and Tested       28434\n",
      "Cable Placed             17556\n",
      "Construction Underway     1407\n",
      "In Design                  675\n",
      "Permits Received           399\n",
      "Permits Submitted           99\n",
      "Name: SEG_STATUS, dtype: int64\n"
     ]
    }
   ],
   "source": [
    "print(df3['SEG_STATUS'].value_counts())"
   ]
  },
  {
   "cell_type": "code",
   "execution_count": 15,
   "metadata": {},
   "outputs": [
    {
     "name": "stdout",
     "output_type": "stream",
     "text": [
      "FrontHaul               27524\n",
      "BackHaul                 9654\n",
      "Distribution             8418\n",
      "FrontHaul & BackHaul      271\n",
      "0                          30\n",
      "All                         4\n",
      "Name: NETWORKTYPE, dtype: int64\n"
     ]
    }
   ],
   "source": [
    "print(df3['NETWORKTYPE'].value_counts())"
   ]
  },
  {
   "cell_type": "code",
   "execution_count": 16,
   "metadata": {},
   "outputs": [
    {
     "name": "stdout",
     "output_type": "stream",
     "text": [
      "BURIED    27139\n",
      "AERIAL     9754\n",
      "FDT          61\n",
      "Name: TYPE_NAME, dtype: int64\n"
     ]
    }
   ],
   "source": [
    "print(df3['TYPE_NAME'].value_counts())"
   ]
  },
  {
   "cell_type": "code",
   "execution_count": 17,
   "metadata": {},
   "outputs": [
    {
     "name": "stdout",
     "output_type": "stream",
     "text": [
      "176624451.9824\n"
     ]
    }
   ],
   "source": [
    "## Total labor amount nationally\n",
    "\n",
    "df3['LABOR_AMOUNT'] = df3['LABOR_AMOUNT'].fillna(0)\n",
    "\n",
    "Tot_Labour_Cost = df3['LABOR_AMOUNT'].sum()\n",
    "print(Tot_Labour_Cost)"
   ]
  },
  {
   "cell_type": "code",
   "execution_count": 18,
   "metadata": {},
   "outputs": [
    {
     "name": "stdout",
     "output_type": "stream",
     "text": [
      "New UG Softscape      14406\n",
      "New UG Shared         11215\n",
      "Project Management    11204\n",
      "Aerial                 8742\n",
      "Existing UG            2619\n",
      "4-Cable Placed         2265\n",
      "5-Splice & Test         922\n",
      "Permitting              913\n",
      "Fiber Splicing          659\n",
      "New UG Hardscape        563\n",
      "ODN Equipment           212\n",
      "ODN Design              176\n",
      "3-Conduit Placed        107\n",
      "Other                    99\n",
      "Make Ready               35\n",
      "HLD                      22\n",
      "Change Order             20\n",
      "New UG Microtrench        7\n",
      "Name: CONSTRUCTION_TYPE, dtype: int64\n"
     ]
    }
   ],
   "source": [
    "print(df3['CONSTRUCTION_TYPE'].value_counts())"
   ]
  },
  {
   "cell_type": "code",
   "execution_count": 19,
   "metadata": {},
   "outputs": [
    {
     "data": {
      "text/plain": [
       "<matplotlib.axes._subplots.AxesSubplot at 0x25c1067aa48>"
      ]
     },
     "execution_count": 19,
     "metadata": {},
     "output_type": "execute_result"
    },
    {
     "data": {
      "image/png": "[encoded data removed]",
      "text/plain": [
       "<Figure size 432x288 with 1 Axes>"
      ]
     },
     "metadata": {
      "needs_background": "light"
     },
     "output_type": "display_data"
    }
   ],
   "source": [
    "plt.xticks(rotation=90)\n",
    "sns.countplot(x= 'CONSTRUCTION_TYPE', data = df3)"
   ]
  },
  {
   "cell_type": "code",
   "execution_count": 20,
   "metadata": {},
   "outputs": [
    {
     "data": {
      "text/plain": [
       "<matplotlib.axes._subplots.AxesSubplot at 0x25c0b0862c8>"
      ]
     },
     "execution_count": 20,
     "metadata": {},
     "output_type": "execute_result"
    },
    {
     "data": {
      "image/png": "[encoded data removed]",
      "text/plain": [
       "<Figure size 432x288 with 1 Axes>"
      ]
     },
     "metadata": {
      "needs_background": "light"
     },
     "output_type": "display_data"
    }
   ],
   "source": [
    "plt.xticks(rotation=90)\n",
    "sns.countplot(x= 'NETWORKTYPE', data = df3)"
   ]
  },
  {
   "cell_type": "code",
   "execution_count": null,
   "metadata": {},
   "outputs": [],
   "source": []
  },
  {
   "cell_type": "code",
   "execution_count": null,
   "metadata": {},
   "outputs": [],
   "source": []
  }
 ],
 "metadata": {
  "kernelspec": {
   "display_name": "Python 3",
   "language": "python",
   "name": "python3"
  },
  "language_info": {
   "codemirror_mode": {
    "name": "ipython",
    "version": 3
   },
   "file_extension": ".py",
   "mimetype": "text/x-python",
   "name": "python",
   "nbconvert_exporter": "python",
   "pygments_lexer": "ipython3",
   "version": "3.7.4"
  }
 },
 "nbformat": 4,
 "nbformat_minor": 2
}
